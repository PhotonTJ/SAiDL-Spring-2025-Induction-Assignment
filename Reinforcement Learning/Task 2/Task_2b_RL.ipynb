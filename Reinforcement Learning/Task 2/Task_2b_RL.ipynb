{
  "cells": [
    {
      "cell_type": "code",
      "execution_count": null,
      "metadata": {
        "id": "ObvEbnDMoIzM"
      },
      "outputs": [],
      "source": [
        "import gymnasium as gym\n",
        "import numpy as np\n",
        "import torch\n",
        "import torch.nn as nn\n",
        "import torch.nn.functional as F\n",
        "import matplotlib.pyplot as plt\n",
        "import random"
      ]
    },
    {
      "cell_type": "code",
      "execution_count": null,
      "metadata": {
        "colab": {
          "base_uri": "https://localhost:8080/"
        },
        "id": "ctmjlm9doJj6",
        "outputId": "44ab2a34-8bd8-491b-ef35-7aaa2c0142a8"
      },
      "outputs": [
        {
          "name": "stdout",
          "output_type": "stream",
          "text": [
            "Requirement already satisfied: mujoco in /usr/local/lib/python3.11/dist-packages (3.3.0)\n",
            "Requirement already satisfied: absl-py in /usr/local/lib/python3.11/dist-packages (from mujoco) (1.4.0)\n",
            "Requirement already satisfied: etils[epath] in /usr/local/lib/python3.11/dist-packages (from mujoco) (1.12.0)\n",
            "Requirement already satisfied: glfw in /usr/local/lib/python3.11/dist-packages (from mujoco) (2.8.0)\n",
            "Requirement already satisfied: numpy in /usr/local/lib/python3.11/dist-packages (from mujoco) (1.26.4)\n",
            "Requirement already satisfied: pyopengl in /usr/local/lib/python3.11/dist-packages (from mujoco) (3.1.9)\n",
            "Requirement already satisfied: fsspec in /usr/local/lib/python3.11/dist-packages (from etils[epath]->mujoco) (2024.10.0)\n",
            "Requirement already satisfied: importlib_resources in /usr/local/lib/python3.11/dist-packages (from etils[epath]->mujoco) (6.5.2)\n",
            "Requirement already satisfied: typing_extensions in /usr/local/lib/python3.11/dist-packages (from etils[epath]->mujoco) (4.12.2)\n",
            "Requirement already satisfied: zipp in /usr/local/lib/python3.11/dist-packages (from etils[epath]->mujoco) (3.21.0)\n"
          ]
        }
      ],
      "source": [
        "pip install mujoco"
      ]
    },
    {
      "cell_type": "code",
      "execution_count": null,
      "metadata": {
        "id": "rj9GXb1SoMFM"
      },
      "outputs": [],
      "source": [
        "device = torch.device(\"cuda\" if torch.cuda.is_available() else \"cpu\")"
      ]
    },
    {
      "cell_type": "code",
      "execution_count": null,
      "metadata": {
        "id": "HERom_-5oNtd"
      },
      "outputs": [],
      "source": [
        "class IndependentNoisyLinear(nn.Module):\n",
        "    def __init__(self, in_features, out_features, sigma_init=0.017, noise_dist='gaussian', noise_params=None):\n",
        "        \"\"\"\n",
        "        noise_dist: 'gaussian', 'beta', or 'gamma'\n",
        "        noise_params: dictionary for additional parameters.\n",
        "          For 'beta': keys 'alpha' and 'beta' (defaults: 2.0, 2.0)\n",
        "          For 'gamma': keys 'shape' and 'scale' (defaults: 2.0, 1.0)\n",
        "        \"\"\"\n",
        "        super(IndependentNoisyLinear, self).__init__()\n",
        "        self.in_features = in_features\n",
        "        self.out_features = out_features\n",
        "        self.noise_dist = noise_dist\n",
        "        self.noise_params = noise_params or {}\n",
        "\n",
        "        # Learnable parameters for weights and biases\n",
        "        self.mu_weight = nn.Parameter(torch.empty(out_features, in_features))\n",
        "        self.sigma_weight = nn.Parameter(torch.empty(out_features, in_features))\n",
        "        self.register_buffer(\"epsilon_weight\", torch.empty(out_features, in_features))\n",
        "\n",
        "        self.mu_bias = nn.Parameter(torch.empty(out_features))\n",
        "        self.sigma_bias = nn.Parameter(torch.empty(out_features))\n",
        "        self.register_buffer(\"epsilon_bias\", torch.empty(out_features))\n",
        "\n",
        "        self.sigma_init = sigma_init\n",
        "        self.reset_parameters()\n",
        "        self.reset_noise()\n",
        "\n",
        "    def reset_parameters(self):\n",
        "        bound = 1 / np.sqrt(self.in_features)\n",
        "        self.mu_weight.data.uniform_(-bound, bound)\n",
        "        self.sigma_weight.data.fill_(self.sigma_init / np.sqrt(self.in_features))\n",
        "        self.mu_bias.data.uniform_(-bound, bound)\n",
        "        self.sigma_bias.data.fill_(self.sigma_init / np.sqrt(self.out_features))\n",
        "\n",
        "    def reset_noise(self):\n",
        "        if self.noise_dist == 'gaussian':\n",
        "            self.epsilon_weight.normal_()  # Independent Gaussian N(0,1)\n",
        "            self.epsilon_bias.normal_()\n",
        "        elif self.noise_dist == 'beta':\n",
        "            # Get Beta distribution parameters; default (2,2)\n",
        "            alpha_val = self.noise_params.get(\"alpha\", 2.0)\n",
        "            beta_val  = self.noise_params.get(\"beta\", 2.0)\n",
        "            beta_dist = torch.distributions.Beta(torch.tensor([alpha_val]), torch.tensor([beta_val]))\n",
        "            eps_w = beta_dist.sample((self.out_features, self.in_features)).squeeze()\n",
        "            self.epsilon_weight.copy_((eps_w - 0.5) * 2.0)\n",
        "            eps_b = beta_dist.sample((self.out_features,)).squeeze()\n",
        "            self.epsilon_bias.copy_((eps_b - 0.5) * 2.0)\n",
        "        elif self.noise_dist == 'gamma':\n",
        "            # Get Gamma distribution parameters; default shape=2.0, scale=1.0\n",
        "            shape_val = self.noise_params.get(\"shape\", 2.0)\n",
        "            scale_val = self.noise_params.get(\"scale\", 1.0)\n",
        "            gamma_dist = torch.distributions.Gamma(torch.tensor([shape_val]), torch.tensor([scale_val]))\n",
        "            noise_w = gamma_dist.sample((self.out_features, self.in_features)).squeeze()\n",
        "            noise_b = gamma_dist.sample((self.out_features,)).squeeze()\n",
        "            mean_val = shape_val * scale_val\n",
        "            std_val  = np.sqrt(shape_val) * scale_val\n",
        "            self.epsilon_weight.copy_((noise_w - mean_val) / std_val)\n",
        "            self.epsilon_bias.copy_((noise_b - mean_val) / std_val)\n",
        "        else:\n",
        "            raise ValueError(\"Unknown noise distribution: {}\".format(self.noise_dist))\n",
        "\n",
        "    def forward(self, x):\n",
        "        if self.training:\n",
        "            weight = self.mu_weight + self.sigma_weight * self.epsilon_weight\n",
        "            bias = self.mu_bias + self.sigma_bias * self.epsilon_bias\n",
        "        else:\n",
        "            weight = self.mu_weight\n",
        "            bias = self.mu_bias\n",
        "        return F.linear(x, weight, bias)"
      ]
    },
    {
      "cell_type": "code",
      "execution_count": null,
      "metadata": {
        "id": "6DuVTEhloQOo"
      },
      "outputs": [],
      "source": [
        "class PolicyNetwork(nn.Module):\n",
        "    def __init__(self, state_dim, action_dim, max_action, noise_dist='gaussian', noise_params=None):\n",
        "        super(PolicyNetwork, self).__init__()\n",
        "        self.l1 = IndependentNoisyLinear(state_dim, 400, noise_dist=noise_dist, noise_params=noise_params)\n",
        "        self.l2 = IndependentNoisyLinear(400, 300, noise_dist=noise_dist, noise_params=noise_params)\n",
        "        self.l3 = IndependentNoisyLinear(300, action_dim, noise_dist=noise_dist, noise_params=noise_params)\n",
        "        self.max_action = max_action\n",
        "\n",
        "    def forward(self, x):\n",
        "        x = F.relu(self.l1(x))\n",
        "        x = F.relu(self.l2(x))\n",
        "        return self.max_action * torch.tanh(self.l3(x))\n",
        "\n",
        "    def reset_noise(self):\n",
        "        self.l1.reset_noise()\n",
        "        self.l2.reset_noise()\n",
        "        self.l3.reset_noise()\n",
        "\n",
        "class ValueNetwork(nn.Module):\n",
        "    def __init__(self, state_dim, action_dim):\n",
        "        super(ValueNetwork, self).__init__()\n",
        "        # Q1 architecture\n",
        "        self.l1 = nn.Linear(state_dim + action_dim, 400)\n",
        "        self.l2 = nn.Linear(400, 300)\n",
        "        self.l3 = nn.Linear(300, 1)\n",
        "        # Q2 architecture\n",
        "        self.l4 = nn.Linear(state_dim + action_dim, 400)\n",
        "        self.l5 = nn.Linear(400, 300)\n",
        "        self.l6 = nn.Linear(300, 1)\n",
        "\n",
        "    def forward(self, x, u):\n",
        "        xu = torch.cat([x, u], 1)\n",
        "        x1 = F.relu(self.l1(xu))\n",
        "        x1 = F.relu(self.l2(x1))\n",
        "        x1 = self.l3(x1)\n",
        "\n",
        "        x2 = F.relu(self.l4(xu))\n",
        "        x2 = F.relu(self.l5(x2))\n",
        "        x2 = self.l6(x2)\n",
        "\n",
        "        return x1, x2\n",
        "\n",
        "    def Q1(self, x, u):\n",
        "        xu = torch.cat([x, u], 1)\n",
        "        x1 = F.relu(self.l1(xu))\n",
        "        x1 = F.relu(self.l2(x1))\n",
        "        return self.l3(x1)\n"
      ]
    },
    {
      "cell_type": "code",
      "execution_count": null,
      "metadata": {
        "id": "_HUJ4Igrou-9"
      },
      "outputs": [],
      "source": [
        "class TD3:\n",
        "    def __init__(self, state_dim, action_dim, max_action, noise_dist='gaussian', noise_params=None, gamma=0.99):\n",
        "        self.actor = PolicyNetwork(state_dim, action_dim, max_action, noise_dist=noise_dist, noise_params=noise_params).to(device)\n",
        "        self.actor_target = PolicyNetwork(state_dim, action_dim, max_action, noise_dist=noise_dist, noise_params=noise_params).to(device)\n",
        "        self.actor_target.load_state_dict(self.actor.state_dict())\n",
        "        self.actor_optimizer = torch.optim.Adam(self.actor.parameters(), lr=1e-3)\n",
        "\n",
        "        self.critic = ValueNetwork(state_dim, action_dim).to(device)\n",
        "        self.critic_target = ValueNetwork(state_dim, action_dim).to(device)\n",
        "        self.critic_target.load_state_dict(self.critic.state_dict())\n",
        "        self.critic_optimizer = torch.optim.Adam(self.critic.parameters(), lr=1e-3)\n",
        "\n",
        "        self.max_action = max_action\n",
        "        self.gamma = gamma\n",
        "\n",
        "    def train(self, replay_buffer, batch_size=64):\n",
        "        state, action, reward, next_state, done = replay_buffer.sample(batch_size)\n",
        "        state      = torch.FloatTensor(state).to(device)\n",
        "        action     = torch.FloatTensor(action).to(device)\n",
        "        reward     = torch.FloatTensor(reward).to(device)\n",
        "        next_state = torch.FloatTensor(next_state).to(device)\n",
        "        done       = torch.FloatTensor(done).to(device)\n",
        "\n",
        "        next_action = self.actor_target(next_state)\n",
        "        target_Q1, target_Q2 = self.critic_target(next_state, next_action)\n",
        "        target_Q = torch.min(target_Q1, target_Q2)\n",
        "        target_Q = reward + (1 - done) * self.gamma * target_Q.detach()\n",
        "\n",
        "        current_Q1, current_Q2 = self.critic(state, action)\n",
        "        critic_loss = F.mse_loss(current_Q1, target_Q) + F.mse_loss(current_Q2, target_Q)\n",
        "\n",
        "        self.critic_optimizer.zero_grad()\n",
        "        critic_loss.backward()\n",
        "        self.critic_optimizer.step()\n",
        "\n",
        "        actor_loss = -self.critic.Q1(state, self.actor(state)).mean()\n",
        "        self.actor_optimizer.zero_grad()\n",
        "        actor_loss.backward()\n",
        "        self.actor_optimizer.step()\n",
        "\n",
        "        tau = 0.005\n",
        "        for param, target_param in zip(self.critic.parameters(), self.critic_target.parameters()):\n",
        "            target_param.data.copy_(tau * param.data + (1 - tau) * target_param.data)\n",
        "        for param, target_param in zip(self.actor.parameters(), self.actor_target.parameters()):\n",
        "            target_param.data.copy_(tau * param.data + (1 - tau) * target_param.data)\n",
        "\n",
        "        self.actor.reset_noise()\n",
        "\n",
        "    def select_action(self, state):\n",
        "        state = torch.FloatTensor(state.reshape(1, -1)).to(device)\n",
        "        return self.actor(state).cpu().data.numpy().flatten()\n"
      ]
    },
    {
      "cell_type": "code",
      "execution_count": null,
      "metadata": {
        "id": "QkcN0dd4oY_i"
      },
      "outputs": [],
      "source": [
        "class PrioritizedMemory:\n",
        "    def __init__(self, max_size=1e6):\n",
        "        self.max_size = int(max_size)\n",
        "        self.storage = []\n",
        "\n",
        "    def add(self, data):\n",
        "        if len(self.storage) == self.max_size:\n",
        "            self.storage.pop(0)\n",
        "        self.storage.append(data)\n",
        "\n",
        "    def sample(self, batch_size):\n",
        "        batch = random.sample(self.storage, batch_size)\n",
        "        state, action, reward, next_state, done = map(np.array, zip(*batch))\n",
        "        return state, action, reward.reshape(-1,1), next_state, done.reshape(-1,1)"
      ]
    },
    {
      "cell_type": "code",
      "execution_count": null,
      "metadata": {
        "id": "d-1IS1lNocMw"
      },
      "outputs": [],
      "source": [
        "class ActorAttention(nn.Module):\n",
        "    def __init__(self, state_dim, action_dim, max_action, noise_dist='gaussian', noise_params=None):\n",
        "        super(ActorAttention, self).__init__()\n",
        "        # Each state feature becomes a token\n",
        "        self.embedding = nn.Linear(1, 64)  # Map each scalar to a 64-dim token\n",
        "        self.attention = nn.MultiheadAttention(embed_dim=64, num_heads=4, batch_first=True)\n",
        "        # After attention, flatten tokens and pass through noisy linear layers\n",
        "        self.fc1 = IndependentNoisyLinear(state_dim * 64, 400, noise_dist=noise_dist, noise_params=noise_params)\n",
        "        self.fc2 = IndependentNoisyLinear(400, 300, noise_dist=noise_dist, noise_params=noise_params)\n",
        "        self.fc3 = IndependentNoisyLinear(300, action_dim, noise_dist=noise_dist, noise_params=noise_params)\n",
        "        self.max_action = max_action\n",
        "\n",
        "    def forward(self, x):\n",
        "        batch_size = x.size(0)\n",
        "        x = x.unsqueeze(-1)  # (batch, state_dim, 1)\n",
        "        x = self.embedding(x)  # (batch, state_dim, 64)\n",
        "        attn_output, _ = self.attention(x, x, x)  # (batch, state_dim, 64)\n",
        "        x = attn_output.view(batch_size, -1)  # Flatten to (batch, state_dim*64)\n",
        "        x = F.relu(self.fc1(x))\n",
        "        x = F.relu(self.fc2(x))\n",
        "        return self.max_action * torch.tanh(self.fc3(x))\n",
        "\n",
        "    def reset_noise(self):\n",
        "        self.fc1.reset_noise()\n",
        "        self.fc2.reset_noise()\n",
        "        self.fc3.reset_noise()\n",
        "\n",
        "# TD3 Agent variant using the attention-based actor\n",
        "class TD3_Attn(TD3):\n",
        "    def __init__(self, state_dim, action_dim, max_action, noise_dist='gaussian', noise_params=None, gamma=0.99):\n",
        "        self.actor = ActorAttention(state_dim, action_dim, max_action, noise_dist=noise_dist, noise_params=noise_params).to(device)\n",
        "        self.actor_target = ActorAttention(state_dim, action_dim, max_action, noise_dist=noise_dist, noise_params=noise_params).to(device)\n",
        "        self.actor_target.load_state_dict(self.actor.state_dict())\n",
        "        self.actor_optimizer = torch.optim.Adam(self.actor.parameters(), lr=1e-3)\n",
        "\n",
        "        self.critic = ValueNetwork(state_dim, action_dim).to(device)\n",
        "        self.critic_target = ValueNetwork(state_dim, action_dim).to(device)\n",
        "        self.critic_target.load_state_dict(self.critic.state_dict())\n",
        "        self.critic_optimizer = torch.optim.Adam(self.critic.parameters(), lr=1e-3)\n",
        "\n",
        "        self.max_action = max_action\n",
        "        self.gamma = gamma"
      ]
    },
    {
      "cell_type": "code",
      "execution_count": null,
      "metadata": {
        "id": "EGhm1yTyrFWv"
      },
      "outputs": [],
      "source": [
        "def fgsm_attack(state, agent, epsilon):\n",
        "    \"\"\"\n",
        "    Generates an adversarially perturbed state using FGSM.\n",
        "    Here we compute the gradient of the critic's Q1 value with respect to the input state\n",
        "    and perturb the state in the direction that increases the loss.\n",
        "    \"\"\"\n",
        "    s = torch.FloatTensor(state.reshape(1, -1)).to(device)\n",
        "    s.requires_grad = True\n",
        "\n",
        "    # Forward pass: get action from actor and Q-value from critic\n",
        "    action = agent.actor(s)\n",
        "    q_val = agent.critic.Q1(s, action)\n",
        "\n",
        "    # Loss defined as negative Q-value (to lower performance)\n",
        "    loss = -q_val\n",
        "    agent.actor.zero_grad()\n",
        "    agent.critic.zero_grad()\n",
        "    loss.backward()\n",
        "\n",
        "    grad_sign = s.grad.data.sign()\n",
        "    s_adv = s + epsilon * grad_sign\n",
        "    return s_adv.detach().cpu().numpy().flatten()\n"
      ]
    },
    {
      "cell_type": "code",
      "execution_count": null,
      "metadata": {
        "id": "4XsHfBm4rHsA"
      },
      "outputs": [],
      "source": [
        "def evaluate_agent(agent, env, num_episodes=1000, adv_epsilon=0.0):\n",
        "    \"\"\"\n",
        "    Evaluates the agent for a given number of episodes.\n",
        "    If adv_epsilon > 0, applies FGSM-based perturbations to the state.\n",
        "    Returns the average episode reward.\n",
        "    \"\"\"\n",
        "    total_reward = 0\n",
        "    for ep in range(num_episodes):\n",
        "        state, _ = env.reset()\n",
        "        ep_reward = 0\n",
        "        done = False\n",
        "        while not done:\n",
        "            if adv_epsilon > 0:\n",
        "                state_adv = fgsm_attack(state, agent, adv_epsilon)\n",
        "                action = agent.select_action(state_adv)\n",
        "            else:\n",
        "                action = agent.select_action(state)\n",
        "            next_state, reward, terminated, truncated, _ = env.step(action)\n",
        "            done = terminated or truncated\n",
        "            ep_reward += reward\n",
        "            state = next_state\n",
        "        total_reward += ep_reward\n",
        "    return total_reward / num_episodes"
      ]
    },
    {
      "cell_type": "code",
      "execution_count": null,
      "metadata": {
        "colab": {
          "base_uri": "https://localhost:8080/",
          "height": 651
        },
        "id": "UDaUY_38rJi5",
        "outputId": "bf5a9179-ad79-4c3f-c401-8b613d7fd133"
      },
      "outputs": [
        {
          "name": "stdout",
          "output_type": "stream",
          "text": [
            "Epsilon: 0.000 | Baseline Reward: 31.77 | Attention Reward: 24.08\n",
            "Epsilon: 0.001 | Baseline Reward: 31.75 | Attention Reward: 24.07\n",
            "Epsilon: 0.005 | Baseline Reward: 31.70 | Attention Reward: 24.07\n",
            "Epsilon: 0.010 | Baseline Reward: 31.62 | Attention Reward: 24.07\n",
            "Epsilon: 0.020 | Baseline Reward: 31.51 | Attention Reward: 24.07\n"
          ]
        },
        {
          "data": {
            "image/png": "[encoded data removed]",
            "text/plain": [
              "<Figure size 1000x600 with 1 Axes>"
            ]
          },
          "metadata": {},
          "output_type": "display_data"
        }
      ],
      "source": [
        "adv_epsilons = [0.0, 0.001, 0.005, 0.01, 0.02]\n",
        "\n",
        "# Create the Hopper environment\n",
        "env = gym.make(\"Hopper-v4\")\n",
        "state_dim = env.observation_space.shape[0]\n",
        "action_dim = env.action_space.shape[0]\n",
        "max_action = float(env.action_space.high[0])\n",
        "\n",
        "# Instantiate baseline TD3 agent (MLP-based actor using NoisyNet layers)\n",
        "baseline_agent = TD3(state_dim, action_dim, max_action, noise_dist='gaussian')\n",
        "# Instantiate alternative TD3 agent with attention-based actor\n",
        "attention_agent = TD3_Attn(state_dim, action_dim, max_action, noise_dist='gaussian')\n",
        "\n",
        "# Evaluate both agents under various adversarial strengths\n",
        "baseline_rewards = []\n",
        "attention_rewards = []\n",
        "\n",
        "num_eval_episodes = 5000\n",
        "\n",
        "for eps in adv_epsilons:\n",
        "    avg_reward_baseline = evaluate_agent(baseline_agent, env, num_episodes=num_eval_episodes, adv_epsilon=eps)\n",
        "    baseline_rewards.append(avg_reward_baseline)\n",
        "    avg_reward_attention = evaluate_agent(attention_agent, env, num_episodes=num_eval_episodes, adv_epsilon=eps)\n",
        "    attention_rewards.append(avg_reward_attention)\n",
        "    print(f\"Epsilon: {eps:.3f} | Baseline Reward: {avg_reward_baseline:.2f} | Attention Reward: {avg_reward_attention:.2f}\")\n",
        "\n",
        "env.close()\n",
        "\n",
        "# Plot the performance curves\n",
        "plt.figure(figsize=(10,6))\n",
        "plt.plot(adv_epsilons, baseline_rewards, label=\"Baseline Encoder (MLP)\", marker='o')\n",
        "plt.plot(adv_epsilons, attention_rewards, label=\"Attention Encoder\", marker='s')\n",
        "plt.xlabel(\"Adversarial Epsilon (𝜖)\")\n",
        "plt.ylabel(\"Average Episode Reward\")\n",
        "plt.title(\"Adversarial Robustness Evaluation of TD3 Agents on Hopper\")\n",
        "plt.legend()\n",
        "plt.grid(True)\n",
        "plt.show()\n"
      ]
    }
  ],
  "metadata": {
    "colab": {
      "provenance": []
    },
    "kernelspec": {
      "display_name": "Python 3",
      "name": "python3"
    },
    "language_info": {
      "name": "python"
    }
  },
  "nbformat": 4,
  "nbformat_minor": 0
}
